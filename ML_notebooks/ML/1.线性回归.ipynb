{
 "cells": [
  {
   "cell_type": "code",
   "execution_count": 1,
   "id": "97a0b648",
   "metadata": {},
   "outputs": [],
   "source": [
    "import numpy as np\n",
    "from matplotlib.pyplot import plot \n",
    "import matplotlib.pyplot as plt\n",
    "%matplotlib inline"
   ]
  },
  {
   "cell_type": "code",
   "execution_count": 2,
   "id": "56bff546",
   "metadata": {},
   "outputs": [
    {
     "data": {
      "text/plain": [
       "(100,)"
      ]
     },
     "execution_count": 2,
     "metadata": {},
     "output_type": "execute_result"
    }
   ],
   "source": [
    "X = np.linspace(1,100,100)\n",
    "X.shape"
   ]
  },
  {
   "cell_type": "code",
   "execution_count": 3,
   "id": "aa15e549",
   "metadata": {},
   "outputs": [
    {
     "data": {
      "text/plain": [
       "(100, 2)"
      ]
     },
     "execution_count": 3,
     "metadata": {},
     "output_type": "execute_result"
    }
   ],
   "source": [
    "X = np.c_[X, np.ones(100)]\n",
    "X.shape"
   ]
  },
  {
   "cell_type": "code",
   "execution_count": 4,
   "id": "392f8f3e",
   "metadata": {},
   "outputs": [
    {
     "data": {
      "text/plain": [
       "(2,)"
      ]
     },
     "execution_count": 4,
     "metadata": {},
     "output_type": "execute_result"
    }
   ],
   "source": [
    "w = np.array([3,2])\n",
    "w.shape"
   ]
  },
  {
   "cell_type": "code",
   "execution_count": 5,
   "id": "55f247c2",
   "metadata": {},
   "outputs": [
    {
     "data": {
      "text/plain": [
       "array([  5.,   8.,  11.,  14.,  17.,  20.,  23.,  26.,  29.,  32.,  35.,\n",
       "        38.,  41.,  44.,  47.,  50.,  53.,  56.,  59.,  62.,  65.,  68.,\n",
       "        71.,  74.,  77.,  80.,  83.,  86.,  89.,  92.,  95.,  98., 101.,\n",
       "       104., 107., 110., 113., 116., 119., 122., 125., 128., 131., 134.,\n",
       "       137., 140., 143., 146., 149., 152., 155., 158., 161., 164., 167.,\n",
       "       170., 173., 176., 179., 182., 185., 188., 191., 194., 197., 200.,\n",
       "       203., 206., 209., 212., 215., 218., 221., 224., 227., 230., 233.,\n",
       "       236., 239., 242., 245., 248., 251., 254., 257., 260., 263., 266.,\n",
       "       269., 272., 275., 278., 281., 284., 287., 290., 293., 296., 299.,\n",
       "       302.])"
      ]
     },
     "execution_count": 5,
     "metadata": {},
     "output_type": "execute_result"
    }
   ],
   "source": [
    "Y = X.dot(w)\n",
    "Y"
   ]
  },
  {
   "cell_type": "code",
   "execution_count": 6,
   "id": "c668456a",
   "metadata": {},
   "outputs": [
    {
     "data": {
      "text/plain": [
       "(100, 2)"
      ]
     },
     "execution_count": 6,
     "metadata": {},
     "output_type": "execute_result"
    }
   ],
   "source": [
    "X[:,0] += np.random.normal(size=(X[:,0].shape))*3 #添加噪声\n",
    "X.shape"
   ]
  },
  {
   "cell_type": "code",
   "execution_count": 7,
   "id": "d3ada420",
   "metadata": {},
   "outputs": [
    {
     "data": {
      "text/plain": [
       "(100, 1)"
      ]
     },
     "execution_count": 7,
     "metadata": {},
     "output_type": "execute_result"
    }
   ],
   "source": [
    "Y = Y.reshape(100,1)\n",
    "Y.shape"
   ]
  },
  {
   "cell_type": "code",
   "execution_count": 8,
   "id": "bbeec765",
   "metadata": {},
   "outputs": [
    {
     "data": {
      "text/plain": [
       "Text(0, 0.5, 'Y')"
      ]
     },
     "execution_count": 8,
     "metadata": {},
     "output_type": "execute_result"
    },
    {
     "data": {
      "image/png": "[encoded data removed]",
      "text/plain": [
       "<Figure size 432x288 with 1 Axes>"
      ]
     },
     "metadata": {
      "needs_background": "light"
     },
     "output_type": "display_data"
    }
   ],
   "source": [
    "plt.scatter(X[:,0],Y)\n",
    "plot(np.arange(0,100).reshape(100,1),Y,\"r\")\n",
    "plt.xlabel(\"X\")\n",
    "plt.ylabel(\"Y\")"
   ]
  },
  {
   "cell_type": "code",
   "execution_count": 9,
   "id": "f45fe749",
   "metadata": {},
   "outputs": [
    {
     "data": {
      "text/plain": [
       "array([[3.03439928],\n",
       "       [0.06276662]])"
      ]
     },
     "execution_count": 9,
     "metadata": {},
     "output_type": "execute_result"
    }
   ],
   "source": [
    "w = np.random.random(size=(2,1))\n",
    "epoch = 100\n",
    "beta = 1e-7\n",
    "losses = []\n",
    "for _ in range(epoch):\n",
    "    dw = -2*X.T.dot(Y-X.dot(w))\n",
    "    w = w - beta*dw\n",
    "    losses.append((Y-X.dot(w)).T.dot(Y-X.dot(w)).reshape(-1))\n",
    "w"
   ]
  },
  {
   "cell_type": "code",
   "execution_count": 10,
   "id": "7451ff3f",
   "metadata": {},
   "outputs": [
    {
     "data": {
      "text/plain": [
       "Text(0, 0.5, 'loss')"
      ]
     },
     "execution_count": 10,
     "metadata": {},
     "output_type": "execute_result"
    },
    {
     "data": {
      "image/png": "[encoded data removed]",
      "text/plain": [
       "<Figure size 432x288 with 1 Axes>"
      ]
     },
     "metadata": {
      "needs_background": "light"
     },
     "output_type": "display_data"
    }
   ],
   "source": [
    "#loss变化\n",
    "plt.plot(losses)\n",
    "plt.xlabel('iterations')\n",
    "plt.ylabel('loss')"
   ]
  },
  {
   "cell_type": "code",
   "execution_count": 11,
   "id": "981698d5",
   "metadata": {},
   "outputs": [
    {
     "data": {
      "text/plain": [
       "array([[2.96919336],\n",
       "       [4.5773729 ]])"
      ]
     },
     "execution_count": 11,
     "metadata": {},
     "output_type": "execute_result"
    }
   ],
   "source": [
    "#当然也可以直接求显式解\n",
    "w=np.linalg.pinv(X).dot(Y)\n",
    "w"
   ]
  },
  {
   "cell_type": "code",
   "execution_count": 12,
   "id": "e0d6b3df",
   "metadata": {},
   "outputs": [
    {
     "data": {
      "text/plain": [
       "Text(0, 0.5, 'Y')"
      ]
     },
     "execution_count": 12,
     "metadata": {},
     "output_type": "execute_result"
    },
    {
     "data": {
      "image/png": "[encoded data removed]",
      "text/plain": [
       "<Figure size 432x288 with 1 Axes>"
      ]
     },
     "metadata": {
      "needs_background": "light"
     },
     "output_type": "display_data"
    }
   ],
   "source": [
    "#可视化,拟合直线\n",
    "plt.scatter(X[:,0],Y)\n",
    "plt.plot(X[:,0],X.dot(w),'r')\n",
    "plt.xlabel('X')\n",
    "plt.ylabel('Y')"
   ]
  },
  {
   "cell_type": "code",
   "execution_count": 13,
   "id": "1a7ff19f",
   "metadata": {},
   "outputs": [],
   "source": [
    "def sign(x):\n",
    "    \"\"\"\n",
    "    符号函数\n",
    "    :param x:\n",
    "    :return:\n",
    "    \"\"\"\n",
    "    if x > 0:\n",
    "        return 1\n",
    "    elif x < 0:\n",
    "        return -1\n",
    "    else:\n",
    "        return 0"
   ]
  },
  {
   "cell_type": "code",
   "execution_count": 14,
   "id": "d1f6b803",
   "metadata": {},
   "outputs": [],
   "source": [
    "class Linerregression(object):\n",
    "    def __init__(self,solver='sgd',fit_intercept=True,if_standard=True,epochs=10,\n",
    "                 beta=1e-2,batch_size=1,l1_ratio=None,l2_ratio=None):\n",
    "        self.w = None\n",
    "        self.solver = solver\n",
    "        self.fit_intercept = fit_intercept\n",
    "        self.if_standard = if_standard\n",
    "        if self.if_standard:\n",
    "            self.feature_mean = None\n",
    "            self.feature_std = None\n",
    "        self.epochs = epochs\n",
    "        self.beta = beta\n",
    "        self.batch = batch_size\n",
    "        self.l1_ratio = l1_ratio\n",
    "        self.l2_ratio = l2_ratio\n",
    "         # 注册sign函数\n",
    "        self.sign_func = np.vectorize(sign)\n",
    "\n",
    "        \n",
    "    def init_params(self,n_feature):\n",
    "        self.w = np.random.random(size=(n_feature,1))\n",
    "        \n",
    "    def  _fit_closed_form_solution(self, x, y, sample_weight):\n",
    "        if self.l1_ratio is None and self.l2_ratio is None:\n",
    "            self.w = np.linalg.pinv(x).dot(y) \n",
    "        elif self.l1_ratio is None and self.l2_ratio is not None:\n",
    "            self.w = np.linalg.inv(x.T.dot(x)+ self.l2_ratio*\n",
    "                                   np.eye(x.shape[1])).dot(x.T).dot(y)\n",
    "        else:\n",
    "            self.w = self._fit_sgd(x,y,sample_weight)\n",
    "            \n",
    "    def _fit_sgd(self,x,y,sample_weight):\n",
    "        x_y = np.c_[x,y]\n",
    "        for _ in range(self.epochs):\n",
    "            np.random.shuffle(x_y)\n",
    "            for index in range(x_y.shape[0]//self.batch):\n",
    "                batch_x_y = x_y[self.batch*index:self.batch*(index+1)]\n",
    "                batch_x = batch_x_y[:,:-1]\n",
    "                batch_y = batch_x_y[:,-1]\n",
    "                sample_weight_diag = np.diag(sample_weight[self.batch*index:self.batch*(index+1)])\n",
    "                sample_weight_mean = np.mean(sample_weight[self.batch*index:self.batch*(index+1)])\n",
    "                dw = -2*batch_x.T.dot(sample_weight_diag).dot(batch_y-batch_x.dot(self.w))/self.batch\n",
    "                 # 添加l1和l2的部分\n",
    "                # 添加l1和l2的部分\n",
    "                dw_reg = np.zeros(shape=(x.shape[1] - 1, 1))\n",
    "                if self.l1_ratio is not None:\n",
    "                    dw_reg += sample_weight_mean * self.l1_ratio * self.sign_func(self.w[:-1]) / self.batch\n",
    "                if self.l2_ratio is not None:\n",
    "                    dw_reg += 2 * sample_weight_mean * self.l2_ratio * self.w[:-1] / self.batch\n",
    "                dw_reg = np.concatenate([dw_reg, np.array([[0]])], axis=0)\n",
    "                dw += dw_reg\n",
    "\n",
    "                self.w = self.w - self.beta * dw\n",
    "                \n",
    "    def fit(self,x ,y,sample_weight=None):\n",
    "        n_sample = x.shape[0]\n",
    "        if sample_weight is None:\n",
    "            sample_weight = np.array([1.0] * n_sample)\n",
    "        # check sample_weight\n",
    "        if len(sample_weight) != n_sample:\n",
    "            raise Exception('sample_weight size error:', len(sample_weight))\n",
    "        # 是否归一化feature\n",
    "        if self.if_standard:\n",
    "            self.feature_mean = np.mean(x, axis=0)\n",
    "            self.feature_std = np.std(x, axis=0) + 1e-8\n",
    "            x = (x-self.feature_mean)/self.feature_std\n",
    "         # 是否训练bias\n",
    "        if self.fit_intercept:\n",
    "            x = np.c_[x, np.ones_like(y)]\n",
    "         # 初始化参数\n",
    "        self.init_params(x.shape[1])\n",
    "        # 训练模型\n",
    "        if self.solver == 'closed_form':\n",
    "            self._fit_closed_form_solution(x, y, sample_weight)\n",
    "        elif self.solver == 'sgd':\n",
    "            self._fit_sgd(x, y, sample_weight)\n",
    "            \n",
    "    def get_params(self):\n",
    "        if self.fit_intercept:\n",
    "            w = self.w[:-1]\n",
    "            b = self.w[-1]\n",
    "        else:\n",
    "            w = self.w\n",
    "            b = 0\n",
    "        if self.if_standard:\n",
    "            w = w / self.feature_std.reshape(-1, 1)\n",
    "            b = b - w.T.dot(self.feature_mean.reshape(-1, 1))\n",
    "        return w.reshape(-1), b\n",
    "    \n",
    "    def predict(self,x):\n",
    "        \"\"\"\n",
    "        :param x:ndarray格式数据: m x n\n",
    "        :return: m x 1\n",
    "        \"\"\"\n",
    "        if self.if_standard:\n",
    "            x = (x - self.feature_mean) / self.feature_std\n",
    "        if self.fit_intercept:\n",
    "            x = np.c_[x, np.ones(shape=x.shape[0])]\n",
    "        return x.dot(self.w)\n",
    "    \n",
    "    def plot_fit_boundary(self, x, y):\n",
    "        \"\"\"\n",
    "        绘制拟合结果\n",
    "        :param x:\n",
    "        :param y:\n",
    "        :return:\n",
    "        \"\"\"\n",
    "        plt.scatter(x[:, 0], y)\n",
    "        plt.plot(x[:, 0], self.predict(x), 'r')\n",
    "    "
   ]
  },
  {
   "cell_type": "code",
   "execution_count": 15,
   "id": "c10520fa",
   "metadata": {},
   "outputs": [
    {
     "name": "stdout",
     "output_type": "stream",
     "text": [
      "w b (array([2.98051821]), array([[4.54464145]]))\n",
      "7.546942944600509\n"
     ]
    }
   ],
   "source": [
    "\n",
    "Y = Y.reshape(100, 1)\n",
    "Lr = Linerregression(solver='sgd')\n",
    "Lr.fit(X[:,:-1],Y)\n",
    "predict = Lr.predict(X[:,:-1])\n",
    "print(\"w\",\"b\",Lr.get_params())\n",
    "print(np.std(Y-predict))\n"
   ]
  },
  {
   "cell_type": "code",
   "execution_count": 16,
   "id": "3723b46a",
   "metadata": {},
   "outputs": [
    {
     "data": {
      "image/png": "[encoded data removed]",
      "text/plain": [
       "<Figure size 432x288 with 1 Axes>"
      ]
     },
     "metadata": {
      "needs_background": "light"
     },
     "output_type": "display_data"
    }
   ],
   "source": [
    "Lr.plot_fit_boundary(X[:,:-1],Y)"
   ]
  },
  {
   "cell_type": "code",
   "execution_count": 17,
   "id": "49025f77",
   "metadata": {},
   "outputs": [
    {
     "name": "stdout",
     "output_type": "stream",
     "text": [
      "w (array([2.96919336]), array([[4.5773729]]))\n"
     ]
    },
    {
     "data": {
      "text/plain": [
       "7.539766540005765"
      ]
     },
     "execution_count": 17,
     "metadata": {},
     "output_type": "execute_result"
    }
   ],
   "source": [
    "#测试\n",
    "Lr=Linerregression(solver='closed_form')\n",
    "Lr.fit(X[:,:-1],Y)\n",
    "predict=Lr.predict(X[:,:-1])\n",
    "#查看w\n",
    "print('w',Lr.get_params())\n",
    "#查看标准差\n",
    "np.std(Y-predict)"
   ]
  },
  {
   "cell_type": "code",
   "execution_count": 18,
   "id": "5572a1ca",
   "metadata": {},
   "outputs": [
    {
     "data": {
      "image/png": "[encoded data removed]",
      "text/plain": [
       "<Figure size 432x288 with 1 Axes>"
      ]
     },
     "metadata": {
      "needs_background": "light"
     },
     "output_type": "display_data"
    }
   ],
   "source": [
    "#可视化结果\n",
    "Lr.plot_fit_boundary(X[:,:-1],Y)"
   ]
  },
  {
   "cell_type": "code",
   "execution_count": 19,
   "id": "2f962bf3",
   "metadata": {},
   "outputs": [
    {
     "name": "stdout",
     "output_type": "stream",
     "text": [
      "w: [[2.96919336]] b: [4.5773729]\n"
     ]
    },
    {
     "data": {
      "text/plain": [
       "7.539766540005763"
      ]
     },
     "execution_count": 19,
     "metadata": {},
     "output_type": "execute_result"
    }
   ],
   "source": [
    "#与sklearn对比\n",
    "from sklearn.linear_model import LinearRegression\n",
    "lr=LinearRegression()\n",
    "lr.fit(X[:,:-1],Y)\n",
    "predict=lr.predict(X[:,:-1])\n",
    "#查看w,b\n",
    "print('w:',lr.coef_,'b:',lr.intercept_)\n",
    "#查看标准差\n",
    "np.std(Y-predict)"
   ]
  },
  {
   "cell_type": "code",
   "execution_count": 20,
   "id": "e9c68e37",
   "metadata": {},
   "outputs": [
    {
     "data": {
      "image/png": "[encoded data removed]",
      "text/plain": [
       "<Figure size 432x288 with 1 Axes>"
      ]
     },
     "metadata": {
      "needs_background": "light"
     },
     "output_type": "display_data"
    }
   ],
   "source": [
    "X=np.concatenate([X,np.asanyarray([[100,1],[101,1],[102,1],[103,1],[104,1]])])\n",
    "Y=np.concatenate([Y,np.asanyarray([[3000],[3300],[3600],[3800],[3900]])])\n",
    "lr=Linerregression(l1_ratio=100)\n",
    "lr.fit(X[:,:-1],Y)\n",
    "lr.plot_fit_boundary(X[:,:-1],Y)"
   ]
  },
  {
   "cell_type": "code",
   "execution_count": 21,
   "id": "39a9d24c",
   "metadata": {},
   "outputs": [
    {
     "data": {
      "image/png": "[encoded data removed]",
      "text/plain": [
       "<Figure size 432x288 with 1 Axes>"
      ]
     },
     "metadata": {
      "needs_background": "light"
     },
     "output_type": "display_data"
    }
   ],
   "source": [
    "ridge=Linerregression(l2_ratio=10)\n",
    "ridge.fit(X[:,:-1],Y)\n",
    "ridge.plot_fit_boundary(X[:,:-1],Y)"
   ]
  },
  {
   "cell_type": "code",
   "execution_count": 22,
   "id": "b61e25a9",
   "metadata": {},
   "outputs": [
    {
     "data": {
      "image/png": "[encoded data removed]",
      "text/plain": [
       "<Figure size 432x288 with 1 Axes>"
      ]
     },
     "metadata": {
      "needs_background": "light"
     },
     "output_type": "display_data"
    }
   ],
   "source": [
    "elastic=Linerregression(l1_ratio=100,l2_ratio=10)\n",
    "elastic.fit(X[:,:-1],Y)\n",
    "elastic.plot_fit_boundary(X[:,:-1],Y)"
   ]
  }
 ],
 "metadata": {
  "kernelspec": {
   "display_name": "Python 3",
   "language": "python",
   "name": "python3"
  },
  "language_info": {
   "codemirror_mode": {
    "name": "ipython",
    "version": 3
   },
   "file_extension": ".py",
   "mimetype": "text/x-python",
   "name": "python",
   "nbconvert_exporter": "python",
   "pygments_lexer": "ipython3",
   "version": "3.6.13"
  }
 },
 "nbformat": 4,
 "nbformat_minor": 5
}
