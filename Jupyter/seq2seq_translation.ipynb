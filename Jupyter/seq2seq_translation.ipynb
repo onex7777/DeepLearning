{
 "cells": [
  {
   "cell_type": "code",
   "execution_count": 2,
   "metadata": {},
   "outputs": [
    {
     "data": {
      "text/plain": [
       "'1.7.0'"
      ]
     },
     "execution_count": 2,
     "metadata": {},
     "output_type": "execute_result"
    }
   ],
   "source": [
    "import torch.nn as nn\n",
    "import torch\n",
    "import torch.optim as optim\n",
    "import torch.functional as F\n",
    "# from torchsummary import summary\n",
    "from tqdm import tqdm\n",
    "torch.__version__"
   ]
  },
  {
   "cell_type": "code",
   "execution_count": 3,
   "metadata": {},
   "outputs": [
    {
     "data": {
      "text/plain": [
       "'0.6.0'"
      ]
     },
     "execution_count": 3,
     "metadata": {},
     "output_type": "execute_result"
    }
   ],
   "source": [
    "import torchtext\n",
    "from torchtext.datasets import TranslationDataset, Multi30k\n",
    "from torchtext.data import Field, BucketIterator\n",
    "\n",
    "import spacy\n",
    "from spacy.lang.en import English\n",
    "from spacy.lang.de import German\n",
    "import random\n",
    "import time\n",
    "torchtext.__version__"
   ]
  },
  {
   "cell_type": "markdown",
   "metadata": {},
   "source": [
    "# 数据处理"
   ]
  },
  {
   "cell_type": "code",
   "execution_count": 4,
   "metadata": {},
   "outputs": [],
   "source": [
    "seed = 2022\n",
    "random.seed(seed)\n",
    "torch.manual_seed(seed)\n",
    "torch.backends.cudnn.deteministic=True"
   ]
  },
  {
   "cell_type": "code",
   "execution_count": 5,
   "metadata": {},
   "outputs": [],
   "source": [
    "spacy_de = German()\n",
    "spacy_en = English()"
   ]
  },
  {
   "cell_type": "code",
   "execution_count": 6,
   "metadata": {},
   "outputs": [],
   "source": [
    "# 将字符转换为list\n",
    "def tokenize_de(text):\n",
    "    return [tok.text for tok in spacy_de.tokenizer(text)][::-1]\n",
    "def tokenize_en(text):\n",
    "    return [tok.text for tok in spacy_en.tokenizer(text)][::-1]"
   ]
  },
  {
   "cell_type": "code",
   "execution_count": 7,
   "metadata": {},
   "outputs": [],
   "source": [
    "SRC = Field(tokenize=tokenize_de,init_token=\"<sos>\",eos_token=\"<eos>\",lower=True)\n",
    "TRG = Field(tokenize=tokenize_en,init_token=\"<sos>\",eos_token=\"<eos>\",lower=True)"
   ]
  },
  {
   "cell_type": "code",
   "execution_count": 8,
   "metadata": {},
   "outputs": [],
   "source": [
    "train_data, valid_data, test_data = Multi30k.splits(exts=('.de','.en'),fields=(SRC,TRG))"
   ]
  },
  {
   "cell_type": "code",
   "execution_count": 9,
   "metadata": {},
   "outputs": [
    {
     "name": "stdout",
     "output_type": "stream",
     "text": [
      "Number of Training examples:29000\n",
      "Number of Validation examples:1014\n",
      "Number of Testing examples:1000\n"
     ]
    }
   ],
   "source": [
    "print(f\"Number of Training examples:{len(train_data.examples)}\")\n",
    "print(f\"Number of Validation examples:{len(valid_data.examples)}\")\n",
    "print(f\"Number of Testing examples:{len(test_data.examples)}\")"
   ]
  },
  {
   "cell_type": "code",
   "execution_count": 10,
   "metadata": {},
   "outputs": [
    {
     "name": "stdout",
     "output_type": "stream",
     "text": [
      "{'src': ['.', 'büsche', 'vieler', 'nähe', 'der', 'in', 'freien', 'im', 'sind', 'männer', 'weiße', 'junge', 'zwei'], 'trg': ['.', 'bushes', 'many', 'near', 'outside', 'are', 'males', 'white', ',', 'young', 'two']}\n"
     ]
    }
   ],
   "source": [
    "print(vars(train_data.examples[0]))"
   ]
  },
  {
   "cell_type": "code",
   "execution_count": 11,
   "metadata": {},
   "outputs": [
    {
     "name": "stdout",
     "output_type": "stream",
     "text": [
      "Unique tokens in source(de) vocabulary: 7853\n",
      "Unique tokens in source(en) vocabulary: 5893\n"
     ]
    }
   ],
   "source": [
    "SRC.build_vocab(train_data,min_freq=2)\n",
    "TRG.build_vocab(train_data,min_freq=2)\n",
    "print(f'Unique tokens in source(de) vocabulary: {len(SRC.vocab)}')\n",
    "print(f'Unique tokens in source(en) vocabulary: {len(TRG.vocab)}')"
   ]
  },
  {
   "cell_type": "code",
   "execution_count": 12,
   "metadata": {},
   "outputs": [],
   "source": [
    "device = torch.device('cuda' if torch.cuda.is_available() else 'cpu')"
   ]
  },
  {
   "cell_type": "markdown",
   "metadata": {},
   "source": [
    "# 参数设定"
   ]
  },
  {
   "cell_type": "code",
   "execution_count": 13,
   "metadata": {},
   "outputs": [],
   "source": [
    "Batch_size = 128\n",
    "train_iterator, valid_iterator,test_iterator = BucketIterator.splits([train_data,valid_data,test_data], batch_size=Batch_size,device=device)"
   ]
  },
  {
   "cell_type": "code",
   "execution_count": 14,
   "metadata": {},
   "outputs": [
    {
     "name": "stdout",
     "output_type": "stream",
     "text": [
      "torch.Size([27, 128]) torch.Size([28, 128])\n"
     ]
    }
   ],
   "source": [
    "for i, batch in enumerate(train_iterator):\n",
    "    src = batch.src.to(device)\n",
    "    trg = batch.trg.to(device)\n",
    "print(src.shape,trg.shape)"
   ]
  },
  {
   "cell_type": "markdown",
   "metadata": {},
   "source": [
    "# 建立模型"
   ]
  },
  {
   "cell_type": "code",
   "execution_count": 15,
   "metadata": {},
   "outputs": [],
   "source": [
    "class Encoder(nn.Module):\n",
    "    def __init__(self, input_dim, emb_dim, hide_dim, n_layers, dropout):\n",
    "        super(Encoder, self).__init__()\n",
    "        self.input_dim = input_dim\n",
    "        self.emb_dim = emb_dim\n",
    "        self.n_layers = n_layers\n",
    "        self.hide_dim = hide_dim\n",
    "        \n",
    "        self.embedding = nn.Embedding(input_dim, emb_dim)\n",
    "        self.lstm = nn.LSTM(emb_dim, hide_dim, n_layers, dropout=dropout,bidirectional=False)\n",
    "        self.dropout = nn.Dropout(dropout)\n",
    "        \n",
    "    def forward(self, src):\n",
    "        embedded = self.dropout(self.embedding(src))\n",
    "        outputs, (hidden, cell) = self.lstm(embedded)   \n",
    "        return hidden, cell   #[batch, seq, dim]    "
   ]
  },
  {
   "cell_type": "code",
   "execution_count": 16,
   "metadata": {},
   "outputs": [],
   "source": [
    "class Decoder(nn.Module):\n",
    "    def __init__(self, output_dim, emb_dim, hide_dim, n_layers, dropout):\n",
    "        super(Decoder, self).__init__()\n",
    "        self.output_dim = output_dim\n",
    "        self.emb_dim = emb_dim\n",
    "        self.n_layers = n_layers\n",
    "        self.hide_dim = hide_dim\n",
    "        \n",
    "        self.embedding = nn.Embedding(output_dim, emb_dim)\n",
    "        self.lstm = nn.LSTM(emb_dim, hide_dim, n_layers, dropout=dropout,bidirectional=False)\n",
    "        self.liner = nn.Linear(hide_dim, output_dim)\n",
    "        self.dropout = nn.Dropout(dropout)\n",
    "        \n",
    "    def forward(self, inputs, hidden, cell):\n",
    "        inputs = inputs.unsqueeze(0)\n",
    "        embedded = self.dropout(self.embedding(inputs))\n",
    "        outputs, (hidden, cell) = self.lstm(embedded,(hidden, cell))\n",
    "        predict = self.liner(outputs.squeeze(0))\n",
    "        \n",
    "        return predict, hidden, cell  #[batch, output_dim]  "
   ]
  },
  {
   "cell_type": "code",
   "execution_count": 17,
   "metadata": {},
   "outputs": [],
   "source": [
    "class seq2seq(nn.Module):\n",
    "    def __init__(self, input_dim, output_dim, enc_emb_dim,dec_emb_dim, hide_dim, n_layers, enc_dropout, dec_dropout, device):\n",
    "        super(seq2seq, self).__init__()\n",
    "        self.encoder = Encoder(input_dim, enc_emb_dim, hide_dim, n_layers, enc_dropout)\n",
    "        self.decoder = Decoder(output_dim, dec_emb_dim, hide_dim, n_layers, dec_dropout)\n",
    "        self.device = device\n",
    "        assert self.encoder.hide_dim== self.decoder.hide_dim,\"Hidden dimensions of encoder and decoder must be equal!\"\n",
    "        assert self.encoder.n_layers== self.decoder.n_layers,\"encoder and decoder must have equal number of layers!\"\n",
    "        \n",
    "    def forward(self, src, trg, teacher_forcing_ratio=0.5):\n",
    "        batch_size = trg.shape[1]\n",
    "        max_len =trg.shape[0]\n",
    "        trg_vocab_size = self.decoder.output_dim\n",
    "        # 用于储存\n",
    "        outputs = torch.zeros([max_len, batch_size,trg_vocab_size]).to(self.device)\n",
    "        hidden, cell = self.encoder(src)\n",
    "        # first input to the decoder is the <sos> token\n",
    "        input = trg[0,:] # [seq_len,batch_size]\n",
    "        for t in range(1, max_len):\n",
    "            output, hidden, cell = self.decoder(input, hidden, cell)\n",
    "            outputs[t] = output \n",
    "            # yes or np teacher_forcing\n",
    "            teacher_force = random.random()\n",
    "            topk = output.argmax(1)\n",
    "            input = trg[t] if teacher_force < teacher_forcing_ratio else topk\n",
    "        return outputs"
   ]
  },
  {
   "cell_type": "code",
   "execution_count": 18,
   "metadata": {},
   "outputs": [],
   "source": [
    "input_dim, output_dim =len(SRC.vocab),len(TRG.vocab)\n",
    "encoder_emb_dim, decoder_emb_dim = 256, 256\n",
    "hidden_dim = 512\n",
    "n_layers =2\n",
    "encoder_dropout,decoder_dropout=0.5, 0.5\n",
    "model = seq2seq(input_dim, output_dim, encoder_emb_dim,decoder_emb_dim, hidden_dim, n_layers, encoder_dropout, decoder_dropout, device).to(device)"
   ]
  },
  {
   "cell_type": "code",
   "execution_count": 19,
   "metadata": {},
   "outputs": [],
   "source": [
    "# print(model)\n",
    "# print(summary(model.cuda(),input_size=[(3,32,32),(3,32,32)],batch_size=-1))"
   ]
  },
  {
   "cell_type": "code",
   "execution_count": 20,
   "metadata": {},
   "outputs": [
    {
     "data": {
      "text/plain": [
       "seq2seq(\n",
       "  (encoder): Encoder(\n",
       "    (embedding): Embedding(7853, 256)\n",
       "    (lstm): LSTM(256, 512, num_layers=2, dropout=0.5)\n",
       "    (dropout): Dropout(p=0.5, inplace=False)\n",
       "  )\n",
       "  (decoder): Decoder(\n",
       "    (embedding): Embedding(5893, 256)\n",
       "    (lstm): LSTM(256, 512, num_layers=2, dropout=0.5)\n",
       "    (liner): Linear(in_features=512, out_features=5893, bias=True)\n",
       "    (dropout): Dropout(p=0.5, inplace=False)\n",
       "  )\n",
       ")"
      ]
     },
     "execution_count": 20,
     "metadata": {},
     "output_type": "execute_result"
    }
   ],
   "source": [
    "#权重初始化\n",
    "def init_weights(model):\n",
    "    for name, param in model.named_parameters():\n",
    "        nn.init.uniform_(param.data, -0.08,0.08)\n",
    "model.apply(init_weights)"
   ]
  },
  {
   "cell_type": "code",
   "execution_count": 21,
   "metadata": {},
   "outputs": [],
   "source": [
    "optimizer_enc = optim.Adam(model.encoder.parameters(),lr=1e-4)\n",
    "scheduler_enc = optim.lr_scheduler.CosineAnnealingWarmRestarts(optimizer_enc, T_0=100, T_mult=2)\n",
    "optimizer_dec = optim.Adam(model.decoder.parameters(),lr=1e-3)\n",
    "scheduler_dec = optim.lr_scheduler.CosineAnnealingWarmRestarts(optimizer_dec, T_0=100, T_mult=2)"
   ]
  },
  {
   "cell_type": "code",
   "execution_count": 22,
   "metadata": {},
   "outputs": [],
   "source": [
    "PAD_Index = TRG.vocab.stoi[\"<pad>\"]\n",
    "criterion = nn.CrossEntropyLoss(ignore_index=PAD_Index)"
   ]
  },
  {
   "cell_type": "markdown",
   "metadata": {},
   "source": [
    "# 训练过程"
   ]
  },
  {
   "cell_type": "code",
   "execution_count": 23,
   "metadata": {},
   "outputs": [],
   "source": [
    "def train(model, iterator, optimizer_enc, optimizer_dec,scheduler_enc,scheduler_dec,criterion, clip):\n",
    "    model.train()\n",
    "    epoch_loss= 0\n",
    "    for i, batch in enumerate(iterator):\n",
    "        src = batch.src.to(device)\n",
    "        trg = batch.trg.to(device)\n",
    "        optimizer_enc.zero_grad()\n",
    "        optimizer_dec.zero_grad()\n",
    "        output = model(src,trg)\n",
    "        output = output[1:].view(-1, output.shape[-1])\n",
    "        trg = trg[1:].view(-1)\n",
    "        loss = criterion(output, trg)\n",
    "        loss.backward()\n",
    "        torch.nn.utils.clip_grad_norm_(model.parameters(), clip)\n",
    "        optimizer_enc.step()\n",
    "        optimizer_dec.step()\n",
    "        scheduler_enc.step()\n",
    "        scheduler_dec.step()\n",
    "        epoch_loss += loss.item()\n",
    "    return epoch_loss/len(iterator)\n",
    "        "
   ]
  },
  {
   "cell_type": "markdown",
   "metadata": {},
   "source": [
    "# 验证"
   ]
  },
  {
   "cell_type": "code",
   "execution_count": 24,
   "metadata": {},
   "outputs": [],
   "source": [
    "def evaluate(model, iterator, criterion, device):\n",
    "    model.eval()\n",
    "    epoch_loss = 0\n",
    "    for i, batch in enumerate(iterator):\n",
    "        with torch.no_grad():\n",
    "            src = batch.src.to(device)\n",
    "            trg = batch.trg.to(device)\n",
    "            output = model(src,trg)\n",
    "            output = output[1:].view(-1, output.shape[-1])\n",
    "            trg = trg[1:].view(-1)\n",
    "            loss = criterion(output, trg)\n",
    "            epoch_loss += loss.item()   \n",
    "    return epoch_loss/len(iterator)"
   ]
  },
  {
   "cell_type": "code",
   "execution_count": 25,
   "metadata": {},
   "outputs": [
    {
     "name": "stdout",
     "output_type": "stream",
     "text": [
      "Epoch:1,Time:41.176283s\n",
      "Train loss:5.133  Valiadtion loss:4.669\n",
      "Epoch:2,Time:41.264736s\n",
      "Train loss:4.679  Valiadtion loss:4.425\n",
      "Epoch:3,Time:41.171484s\n",
      "Train loss:4.445  Valiadtion loss:4.291\n",
      "Epoch:4,Time:41.781509s\n",
      "Train loss:4.396  Valiadtion loss:4.136\n",
      "Epoch:5,Time:41.169658s\n",
      "Train loss:4.268  Valiadtion loss:4.145\n",
      "Epoch:6,Time:41.633498s\n",
      "Train loss:4.216  Valiadtion loss:4.134\n",
      "Epoch:7,Time:41.029516s\n",
      "Train loss:4.198  Valiadtion loss:3.999\n",
      "Epoch:8,Time:42.728580s\n",
      "Train loss:4.172  Valiadtion loss:3.973\n",
      "Epoch:9,Time:41.626429s\n",
      "Train loss:4.067  Valiadtion loss:4.042\n",
      "Epoch:10,Time:42.822485s\n",
      "Train loss:3.987  Valiadtion loss:4.092\n"
     ]
    }
   ],
   "source": [
    "epochs = 10\n",
    "clip = 1\n",
    "best_valid_loss = float('inf')\n",
    "for epoch in range(1,epochs+1):\n",
    "    start_time = time.time()\n",
    "    train_loss = train(model, train_iterator, optimizer_enc, optimizer_dec,scheduler_enc,scheduler_dec,criterion,clip)\n",
    "    valid_loss = evaluate(model, valid_iterator, criterion,device)\n",
    "    end_time = time.time()\n",
    "    if valid_loss < best_valid_loss:\n",
    "        best_valid_loss = valid_loss\n",
    "        torch.save(model.state_dict(),\"seq2seq.pt\")\n",
    "    print(f\"Epoch:{epoch},Time:{end_time-start_time:3f}s\")\n",
    "    print(f\"Train loss:{train_loss:.3f}  Valiadtion loss:{valid_loss:.3f}\")  "
   ]
  },
  {
   "cell_type": "code",
   "execution_count": null,
   "metadata": {},
   "outputs": [],
   "source": []
  },
  {
   "cell_type": "code",
   "execution_count": 26,
   "metadata": {},
   "outputs": [
    {
     "name": "stdout",
     "output_type": "stream",
     "text": [
      "Test loss:3.987\n"
     ]
    }
   ],
   "source": [
    "model.load_state_dict(torch.load('seq2seq.pt'))\n",
    "test_loss = evaluate(model, test_iterator, criterion,device)\n",
    "print(f\"Test loss:{train_loss:.3f}\") "
   ]
  },
  {
   "cell_type": "code",
   "execution_count": null,
   "metadata": {},
   "outputs": [],
   "source": []
  }
 ],
 "metadata": {
  "interpreter": {
   "hash": "1d57489416e30da12fb70daac3105b68cfba63f2cc109eae1fbab1e6ce82260b"
  },
  "kernelspec": {
   "display_name": "Python 3.7.13 ('pytorch1.7')",
   "language": "python",
   "name": "python3"
  },
  "language_info": {
   "codemirror_mode": {
    "name": "ipython",
    "version": 3
   },
   "file_extension": ".py",
   "mimetype": "text/x-python",
   "name": "python",
   "nbconvert_exporter": "python",
   "pygments_lexer": "ipython3",
   "version": "3.7.13"
  }
 },
 "nbformat": 4,
 "nbformat_minor": 2
}
