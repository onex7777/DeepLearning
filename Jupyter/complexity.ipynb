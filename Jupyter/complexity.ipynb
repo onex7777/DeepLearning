{
 "cells": [
  {
   "cell_type": "markdown",
   "source": [
    "### 1. 简单的复杂度的回顾"
   ],
   "metadata": {}
  },
  {
   "cell_type": "code",
   "execution_count": 1,
   "source": [
    "def compute(a,b):\r\n",
    "    n,s = 10,0\r\n",
    "    for i in range(n):\r\n",
    "        for j in range(n):\r\n",
    "            s = s + a * b\r\n",
    "    return s\r\n",
    "# 时间复杂度：O(N^2)， 空间复杂度：O(1)"
   ],
   "outputs": [],
   "metadata": {}
  },
  {
   "cell_type": "markdown",
   "source": [
    "### 2. 归并排序以及时间复杂度以及Master Thereom"
   ],
   "metadata": {}
  },
  {
   "cell_type": "code",
   "execution_count": null,
   "source": [],
   "outputs": [],
   "metadata": {
    "collapsed": true
   }
  },
  {
   "cell_type": "markdown",
   "source": [
    "### 3. Fibonanci number (斐波那契数)\n",
    "序列一次为 1，1，2，3，5，8，13，21，....\n",
    "问题： 怎么求出序列中第N个数？"
   ],
   "metadata": {}
  },
  {
   "cell_type": "code",
   "execution_count": 2,
   "source": [
    "# T(n) = T(n-2) + T(n-1)\r\n",
    "\r\n",
    "def fib(n):\r\n",
    "    # base case\r\n",
    "    if n < 3:\r\n",
    "        return 1\r\n",
    "    return fib(n-2)+fib(n-1)\r\n",
    "print (fib(50))"
   ],
   "outputs": [],
   "metadata": {}
  },
  {
   "cell_type": "code",
   "execution_count": null,
   "source": [
    "# 时间复杂度？\r\n",
    "import numpy as np\r\n",
    "def fib(n):\r\n",
    "    tmp = np.zeros(n)\r\n",
    "    tmp[0] = 1\r\n",
    "    tmp[1] = 1\r\n",
    "    for i in range(2,n):\r\n",
    "        tmp[i] = tmp[i-2]+tmp[i-1]\r\n",
    "    \r\n",
    "    return tmp[n-1]\r\n",
    "\r\n",
    "# O(N) O(2^n)\r\n",
    "\r\n",
    "def fib(n):\r\n",
    "    tmp = np.zeros(n)\r\n",
    "    tmp[0] = 1\r\n",
    "    tmp[1] = 1\r\n",
    "    for i in range(2,n):\r\n",
    "        tmp[i] = tmp[i-2]+tmp[i-1]\r\n",
    "    \r\n",
    "    return tmp[n-1]\r\n",
    "\r\n",
    "\r\n",
    "def fib(n):\r\n",
    "    a,b=1,1\r\n",
    "    c =0\r\n",
    "    for i in range(2,n):\r\n",
    "        c = a + b\r\n",
    "        a = b\r\n",
    "        b = c  \r\n",
    "    return c\r\n",
    "\r\n",
    "\r\n",
    "思考题： 怎么在O(1)的时间复杂度下计算FIB(N)？\r\n",
    "\r\n",
    "套公式\r\n",
    "\r\n",
    "思考题： 这个公式怎么得来的？ \r\n",
    "提示： 转换成矩阵的连乘的形式， 矩阵连乘可以简化（MATRIX DECOMPOSION）\r\n",
    "\r\n",
    "\r\n"
   ],
   "outputs": [],
   "metadata": {
    "collapsed": true
   }
  },
  {
   "cell_type": "markdown",
   "source": [],
   "metadata": {}
  },
  {
   "cell_type": "code",
   "execution_count": null,
   "source": [],
   "outputs": [],
   "metadata": {
    "collapsed": true
   }
  }
 ],
 "metadata": {
  "kernelspec": {
   "name": "python3",
   "display_name": "Python 3.8.8 64-bit ('base': conda)"
  },
  "language_info": {
   "codemirror_mode": {
    "name": "ipython",
    "version": 3
   },
   "file_extension": ".py",
   "mimetype": "text/x-python",
   "name": "python",
   "nbconvert_exporter": "python",
   "pygments_lexer": "ipython3",
   "version": "3.8.8"
  },
  "interpreter": {
   "hash": "b4760074067732e81c03fa2f3451350d5e78e45f688639748e9cab7f332de886"
  }
 },
 "nbformat": 4,
 "nbformat_minor": 2
}